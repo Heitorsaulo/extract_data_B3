{
 "cells": [
  {
   "cell_type": "code",
   "id": "initial_id",
   "metadata": {
    "collapsed": true,
    "ExecuteTime": {
     "end_time": "2025-02-07T00:41:06.294441Z",
     "start_time": "2025-02-07T00:41:06.060132Z"
    }
   },
   "source": [
    "from xmlrpc.client import DateTime\n",
    "\n",
    "import matplotlib.pyplot as plt\n",
    "import pandas as pd\n",
    "import yfinance as yf\n",
    "from yahooquery import Ticker\n",
    "import numpy as np\n",
    "from sklearn.model_selection import train_test_split\n",
    "from sklearn.ensemble import RandomForestRegressor\n",
    "from sklearn.metrics import mean_absolute_error, mean_squared_error, r2_score\n",
    "import seaborn as sns\n",
    "from datetime import datetime"
   ],
   "outputs": [],
   "execution_count": 46
  },
  {
   "cell_type": "markdown",
   "id": "eeb8fdb9b1ded32f",
   "metadata": {
    "collapsed": false
   },
   "source": "## importando pelo yahoo finance"
  },
  {
   "cell_type": "markdown",
   "id": "c2beb9cee186ee5b",
   "metadata": {
    "collapsed": false
   },
   "source": "# Todos os filtros para buscar reits a partir do YahooQuery"
  },
  {
   "metadata": {},
   "cell_type": "markdown",
   "source": "## Fundos imobiliarios",
   "id": "916f2cb275f11ead"
  },
  {
   "metadata": {
    "ExecuteTime": {
     "end_time": "2025-02-05T00:50:38.511573Z",
     "start_time": "2025-02-05T00:50:38.497333Z"
    }
   },
   "cell_type": "code",
   "source": [
    "pd_fiis = pd.read_csv('statusinvest-busca-avancada.csv', sep=';')\n",
    "len(pd_fiis['TICKER'])\n"
   ],
   "id": "289424e99c4fb50c",
   "outputs": [
    {
     "data": {
      "text/plain": [
       "579"
      ]
     },
     "execution_count": 3,
     "metadata": {},
     "output_type": "execute_result"
    }
   ],
   "execution_count": 3
  },
  {
   "metadata": {},
   "cell_type": "markdown",
   "source": "## REITs",
   "id": "e005fe4cf1b76086"
  },
  {
   "cell_type": "code",
   "id": "9803977ea04932df",
   "metadata": {
    "collapsed": false,
    "ExecuteTime": {
     "end_time": "2025-02-01T23:44:11.708592Z",
     "start_time": "2025-02-01T23:44:11.705543Z"
    }
   },
   "source": [
    "#s = yq.Screener()\n",
    "#\n",
    "#lista_screeners = ['reit_diversified',\n",
    "#    'reit_healthcare_facilities',\n",
    "#    'reit_hotel_motel',\n",
    "#    'reit_industrial',\n",
    "#    'reit_office',\n",
    "#   'reit_residential',\n",
    "#   'reit_retail']\n",
    "#\n",
    "#lista_cod_reits = []\n",
    "#reits = s.get_screeners(lista_screeners, 100)\n",
    "#pd_reits = pd.DataFrame(reits)\n",
    "#json_reit_diversified = pd_reits.iloc[9]\n",
    "\n",
    "#for reit in json_reit_diversified:\n",
    "#    for item in reit:\n",
    "#        lista_cod_reits.append(item['symbol'])\n",
    "\n",
    "#len(lista_cod_reits)"
   ],
   "outputs": [],
   "execution_count": 3
  },
  {
   "cell_type": "markdown",
   "id": "c18ae493d4894a57",
   "metadata": {
    "collapsed": false
   },
   "source": "# Realizando a requisição dos REITs"
  },
  {
   "cell_type": "code",
   "id": "e38bba011781c212",
   "metadata": {
    "collapsed": false,
    "ExecuteTime": {
     "end_time": "2025-02-05T01:50:18.063501Z",
     "start_time": "2025-02-05T01:33:10.161650Z"
    }
   },
   "source": [
    "dataJson = list()\n",
    "\n",
    "for Fii in pd_fiis['TICKER']:\n",
    "    dataJson.append(Ticker(Fii + '.SA'))\n",
    "len(dataJson)"
   ],
   "outputs": [
    {
     "data": {
      "text/plain": [
       "579"
      ]
     },
     "execution_count": 53,
     "metadata": {},
     "output_type": "execute_result"
    }
   ],
   "execution_count": 53
  },
  {
   "metadata": {
    "ExecuteTime": {
     "end_time": "2025-02-05T01:57:01.545213Z",
     "start_time": "2025-02-05T01:57:00.661608Z"
    }
   },
   "cell_type": "code",
   "source": [
    "type(dataJson[2].all_financial_data())\n",
    "#start_date = balance_sheet['asOfDate'].iloc[0]\n",
    "#start_date"
   ],
   "id": "23288d3363f1ce3b",
   "outputs": [
    {
     "data": {
      "text/plain": [
       "pandas.core.frame.DataFrame"
      ]
     },
     "execution_count": 63,
     "metadata": {},
     "output_type": "execute_result"
    }
   ],
   "execution_count": 63
  },
  {
   "metadata": {},
   "cell_type": "code",
   "outputs": [],
   "execution_count": null,
   "source": [
    "all_stock_complete = []\n",
    "\n",
    "for data_stocks in dataJson:\n",
    "    try:\n",
    "        balance_sheet = data_stocks.all_financial_data()\n",
    "\n",
    "        if isinstance(balance_sheet, str):\n",
    "            continue  # Pula para a próxima iteração se for uma string\n",
    "\n",
    "        # Obtendo as datas inicial e final\n",
    "        start_date, end_date = balance_sheet['asOfDate'].iloc[[0, -1]]\n",
    "\n",
    "        # Obtendo o histórico de preços no intervalo desejado\n",
    "        historic_value = data_stocks.history(start=start_date, end=end_date)\n",
    "\n",
    "        # Limpando e preparando os DataFrames\n",
    "        balance_sheet = (\n",
    "            balance_sheet\n",
    "            .fillna(0)  # Substitui NaNs por 0\n",
    "            .rename(columns={'asOfDate': 'date'})  # Renomeia a coluna\n",
    "            .assign(date=lambda df: pd.to_datetime(df['date']),  # Converte para datetime\n",
    "                    year=lambda df: df['date'].dt.year)  # Extrai o ano\n",
    "        )\n",
    "\n",
    "        historic_value = (\n",
    "            historic_value\n",
    "            .reset_index()  # Transforma índices em colunas para evitar problemas\n",
    "            .assign(date=lambda df: pd.to_datetime(df['date']),  # Converte para datetime\n",
    "                    year=lambda df: df['date'].dt.year)  # Extrai o ano\n",
    "        )\n",
    "\n",
    "        # Juntando os DataFrames com base no ano\n",
    "        complete_values = pd.merge(balance_sheet, historic_value, on='year', how='inner')\n",
    "\n",
    "        # Ajustando o DataFrame final\n",
    "        complete_values.drop(columns=['date_x'], inplace=True)  # Remove data duplicada\n",
    "        complete_values.rename(columns={'date_y': 'date'}, inplace=True)\n",
    "\n",
    "        # Adicionando a coluna 'symbol'\n",
    "        complete_values['symbol'] = historic_value['symbol']\n",
    "\n",
    "        # Armazena o resultado\n",
    "        all_stock_complete.append(complete_values)\n",
    "    except:\n",
    "        print(data_stocks)"
   ],
   "id": "120d866b683941c6"
  },
  {
   "metadata": {},
   "cell_type": "code",
   "outputs": [],
   "execution_count": null,
   "source": "len(all_stock_complete)",
   "id": "fab08d22ed4bf556"
  },
  {
   "metadata": {
    "ExecuteTime": {
     "end_time": "2025-02-05T02:23:46.925600Z",
     "start_time": "2025-02-05T02:18:01.570666Z"
    }
   },
   "cell_type": "code",
   "source": [
    "df_stocks = pd.concat(all_stock_complete).drop_duplicates().reset_index(drop=True)\n",
    "df_stocks = df_stocks.fillna(0)\n",
    "df_stocks.to_excel('all_stocks.xlsx', index=False)"
   ],
   "id": "34440cadb37449ab",
   "outputs": [],
   "execution_count": 71
  },
  {
   "metadata": {
    "ExecuteTime": {
     "end_time": "2025-02-07T00:22:26.293697Z",
     "start_time": "2025-02-07T00:22:24.710308Z"
    }
   },
   "cell_type": "code",
   "source": "all_stocks = pd.read_csv('all_stocks.csv')",
   "id": "9a402be3e446d385",
   "outputs": [],
   "execution_count": 31
  },
  {
   "cell_type": "markdown",
   "id": "69f2f22e64445f26",
   "metadata": {
    "collapsed": false
   },
   "source": [
    "# Filtrar todos os fundos que o request na API conseguiu ter acesso aos dados:"
   ]
  },
  {
   "metadata": {},
   "cell_type": "markdown",
   "source": "### Exemplo de exibição, simpleInfo é uma lista de dataframes",
   "id": "b3a7396a44310b6"
  },
  {
   "metadata": {},
   "cell_type": "markdown",
   "source": "## Filtrar com base na media de volume - Minimo: 1000",
   "id": "61724edea0988450"
  },
  {
   "cell_type": "code",
   "id": "f5e6234957596a7b",
   "metadata": {
    "collapsed": false,
    "ExecuteTime": {
     "end_time": "2025-02-07T00:22:43.019565Z",
     "start_time": "2025-02-07T00:22:42.950426Z"
    }
   },
   "source": "all_stocks = all_stocks.drop(['currencyCode', 'periodType'], axis=1)",
   "outputs": [],
   "execution_count": 32
  },
  {
   "metadata": {
    "ExecuteTime": {
     "end_time": "2025-02-07T00:22:44.946950Z",
     "start_time": "2025-02-07T00:22:44.869753Z"
    }
   },
   "cell_type": "code",
   "source": [
    "info_target = all_stocks[['open', 'high', 'low', 'close', 'symbol', 'date']]\n",
    "all_stocks = all_stocks.drop(['open', 'high', 'low', 'close', 'symbol', 'date'], axis=1)\n",
    "info_target"
   ],
   "id": "deda6dbcc389149b",
   "outputs": [
    {
     "data": {
      "text/plain": [
       "              open        high         low       close     symbol        date\n",
       "0        74.480003   74.480003   73.820000   74.370003  ABCP11.SA  2021-01-04\n",
       "1        74.370003   74.519997   73.849998   74.430000  ABCP11.SA  2021-01-05\n",
       "2        74.419998   74.419998   73.809998   73.959999  ABCP11.SA  2021-01-06\n",
       "3        73.949997   74.379997   73.949997   74.040001  ABCP11.SA  2021-01-07\n",
       "4        74.050003   74.389999   74.050003   74.269997  ABCP11.SA  2021-01-08\n",
       "...            ...         ...         ...         ...        ...         ...\n",
       "124746  800.000000  810.000000  800.000000  810.000000  ZIFI11.SA  2023-12-19\n",
       "124747  810.000000  810.000000  762.010010  810.000000  ZIFI11.SA  2023-12-20\n",
       "124748  810.000000  810.000000  810.000000  810.000000  ZIFI11.SA  2023-12-22\n",
       "124749  849.000000  849.000000  849.000000  849.000000  ZIFI11.SA  2023-12-26\n",
       "124750  849.000000  849.000000  849.000000  849.000000  ZIFI11.SA  2023-12-28\n",
       "\n",
       "[124751 rows x 6 columns]"
      ],
      "text/html": [
       "<div>\n",
       "<style scoped>\n",
       "    .dataframe tbody tr th:only-of-type {\n",
       "        vertical-align: middle;\n",
       "    }\n",
       "\n",
       "    .dataframe tbody tr th {\n",
       "        vertical-align: top;\n",
       "    }\n",
       "\n",
       "    .dataframe thead th {\n",
       "        text-align: right;\n",
       "    }\n",
       "</style>\n",
       "<table border=\"1\" class=\"dataframe\">\n",
       "  <thead>\n",
       "    <tr style=\"text-align: right;\">\n",
       "      <th></th>\n",
       "      <th>open</th>\n",
       "      <th>high</th>\n",
       "      <th>low</th>\n",
       "      <th>close</th>\n",
       "      <th>symbol</th>\n",
       "      <th>date</th>\n",
       "    </tr>\n",
       "  </thead>\n",
       "  <tbody>\n",
       "    <tr>\n",
       "      <th>0</th>\n",
       "      <td>74.480003</td>\n",
       "      <td>74.480003</td>\n",
       "      <td>73.820000</td>\n",
       "      <td>74.370003</td>\n",
       "      <td>ABCP11.SA</td>\n",
       "      <td>2021-01-04</td>\n",
       "    </tr>\n",
       "    <tr>\n",
       "      <th>1</th>\n",
       "      <td>74.370003</td>\n",
       "      <td>74.519997</td>\n",
       "      <td>73.849998</td>\n",
       "      <td>74.430000</td>\n",
       "      <td>ABCP11.SA</td>\n",
       "      <td>2021-01-05</td>\n",
       "    </tr>\n",
       "    <tr>\n",
       "      <th>2</th>\n",
       "      <td>74.419998</td>\n",
       "      <td>74.419998</td>\n",
       "      <td>73.809998</td>\n",
       "      <td>73.959999</td>\n",
       "      <td>ABCP11.SA</td>\n",
       "      <td>2021-01-06</td>\n",
       "    </tr>\n",
       "    <tr>\n",
       "      <th>3</th>\n",
       "      <td>73.949997</td>\n",
       "      <td>74.379997</td>\n",
       "      <td>73.949997</td>\n",
       "      <td>74.040001</td>\n",
       "      <td>ABCP11.SA</td>\n",
       "      <td>2021-01-07</td>\n",
       "    </tr>\n",
       "    <tr>\n",
       "      <th>4</th>\n",
       "      <td>74.050003</td>\n",
       "      <td>74.389999</td>\n",
       "      <td>74.050003</td>\n",
       "      <td>74.269997</td>\n",
       "      <td>ABCP11.SA</td>\n",
       "      <td>2021-01-08</td>\n",
       "    </tr>\n",
       "    <tr>\n",
       "      <th>...</th>\n",
       "      <td>...</td>\n",
       "      <td>...</td>\n",
       "      <td>...</td>\n",
       "      <td>...</td>\n",
       "      <td>...</td>\n",
       "      <td>...</td>\n",
       "    </tr>\n",
       "    <tr>\n",
       "      <th>124746</th>\n",
       "      <td>800.000000</td>\n",
       "      <td>810.000000</td>\n",
       "      <td>800.000000</td>\n",
       "      <td>810.000000</td>\n",
       "      <td>ZIFI11.SA</td>\n",
       "      <td>2023-12-19</td>\n",
       "    </tr>\n",
       "    <tr>\n",
       "      <th>124747</th>\n",
       "      <td>810.000000</td>\n",
       "      <td>810.000000</td>\n",
       "      <td>762.010010</td>\n",
       "      <td>810.000000</td>\n",
       "      <td>ZIFI11.SA</td>\n",
       "      <td>2023-12-20</td>\n",
       "    </tr>\n",
       "    <tr>\n",
       "      <th>124748</th>\n",
       "      <td>810.000000</td>\n",
       "      <td>810.000000</td>\n",
       "      <td>810.000000</td>\n",
       "      <td>810.000000</td>\n",
       "      <td>ZIFI11.SA</td>\n",
       "      <td>2023-12-22</td>\n",
       "    </tr>\n",
       "    <tr>\n",
       "      <th>124749</th>\n",
       "      <td>849.000000</td>\n",
       "      <td>849.000000</td>\n",
       "      <td>849.000000</td>\n",
       "      <td>849.000000</td>\n",
       "      <td>ZIFI11.SA</td>\n",
       "      <td>2023-12-26</td>\n",
       "    </tr>\n",
       "    <tr>\n",
       "      <th>124750</th>\n",
       "      <td>849.000000</td>\n",
       "      <td>849.000000</td>\n",
       "      <td>849.000000</td>\n",
       "      <td>849.000000</td>\n",
       "      <td>ZIFI11.SA</td>\n",
       "      <td>2023-12-28</td>\n",
       "    </tr>\n",
       "  </tbody>\n",
       "</table>\n",
       "<p>124751 rows × 6 columns</p>\n",
       "</div>"
      ]
     },
     "execution_count": 33,
     "metadata": {},
     "output_type": "execute_result"
    }
   ],
   "execution_count": 33
  },
  {
   "metadata": {
    "ExecuteTime": {
     "end_time": "2025-02-07T00:22:53.179061Z",
     "start_time": "2025-02-07T00:22:53.174438Z"
    }
   },
   "cell_type": "code",
   "source": "info_target['close']",
   "id": "853e76ed7c86fe17",
   "outputs": [
    {
     "data": {
      "text/plain": [
       "0          74.370003\n",
       "1          74.430000\n",
       "2          73.959999\n",
       "3          74.040001\n",
       "4          74.269997\n",
       "             ...    \n",
       "124746    810.000000\n",
       "124747    810.000000\n",
       "124748    810.000000\n",
       "124749    849.000000\n",
       "124750    849.000000\n",
       "Name: close, Length: 124751, dtype: float64"
      ]
     },
     "execution_count": 34,
     "metadata": {},
     "output_type": "execute_result"
    }
   ],
   "execution_count": 34
  },
  {
   "cell_type": "markdown",
   "id": "1c24a250f85d8bb7",
   "metadata": {
    "collapsed": false
   },
   "source": "## Adicionar colunas com a regressão linear, comparando com o valor: b3, IPCA, tesouro direto"
  },
  {
   "metadata": {
    "ExecuteTime": {
     "end_time": "2025-02-07T00:16:25.034525Z",
     "start_time": "2025-02-07T00:16:23.082120Z"
    }
   },
   "cell_type": "code",
   "source": [
    "ibova = pd.DataFrame(yf.Ticker('BOVA11.SA').history(period=\"max\"))\n",
    "ibova.index = ibova.index.strftime('%d/%m/%Y')\n",
    "ibova"
   ],
   "id": "639adcd19b6c19e",
   "outputs": [
    {
     "data": {
      "text/plain": [
       "                  Open        High         Low       Close   Volume  \\\n",
       "Date                                                                  \n",
       "17/04/2009   45.700001   45.980000   45.599998   45.849998   274700   \n",
       "20/04/2009   44.790001   44.900002   44.070000   44.419998   265800   \n",
       "22/04/2009   44.610001   45.240002   44.509998   44.990002   234800   \n",
       "23/04/2009   45.189999   45.900002   44.860001   45.900002   305900   \n",
       "24/04/2009   46.169998   46.849998   46.099998   46.689999   325600   \n",
       "...                ...         ...         ...         ...      ...   \n",
       "31/01/2025  123.959999  124.400002  122.930000  123.000000  8503720   \n",
       "03/02/2025  122.889999  123.379997  122.480003  122.639999  3562259   \n",
       "04/02/2025  122.430000  122.760002  121.580002  121.910004  2660619   \n",
       "05/02/2025  122.220001  122.769997  121.540001  122.370003  4473279   \n",
       "06/02/2025  122.250000  123.830002  122.160004  123.160004  7320589   \n",
       "\n",
       "            Dividends  Stock Splits  \n",
       "Date                                 \n",
       "17/04/2009        0.0           0.0  \n",
       "20/04/2009        0.0           0.0  \n",
       "22/04/2009        0.0           0.0  \n",
       "23/04/2009        0.0           0.0  \n",
       "24/04/2009        0.0           0.0  \n",
       "...               ...           ...  \n",
       "31/01/2025        0.0           0.0  \n",
       "03/02/2025        0.0           0.0  \n",
       "04/02/2025        0.0           0.0  \n",
       "05/02/2025        0.0           0.0  \n",
       "06/02/2025        0.0           0.0  \n",
       "\n",
       "[3896 rows x 7 columns]"
      ],
      "text/html": [
       "<div>\n",
       "<style scoped>\n",
       "    .dataframe tbody tr th:only-of-type {\n",
       "        vertical-align: middle;\n",
       "    }\n",
       "\n",
       "    .dataframe tbody tr th {\n",
       "        vertical-align: top;\n",
       "    }\n",
       "\n",
       "    .dataframe thead th {\n",
       "        text-align: right;\n",
       "    }\n",
       "</style>\n",
       "<table border=\"1\" class=\"dataframe\">\n",
       "  <thead>\n",
       "    <tr style=\"text-align: right;\">\n",
       "      <th></th>\n",
       "      <th>Open</th>\n",
       "      <th>High</th>\n",
       "      <th>Low</th>\n",
       "      <th>Close</th>\n",
       "      <th>Volume</th>\n",
       "      <th>Dividends</th>\n",
       "      <th>Stock Splits</th>\n",
       "    </tr>\n",
       "    <tr>\n",
       "      <th>Date</th>\n",
       "      <th></th>\n",
       "      <th></th>\n",
       "      <th></th>\n",
       "      <th></th>\n",
       "      <th></th>\n",
       "      <th></th>\n",
       "      <th></th>\n",
       "    </tr>\n",
       "  </thead>\n",
       "  <tbody>\n",
       "    <tr>\n",
       "      <th>17/04/2009</th>\n",
       "      <td>45.700001</td>\n",
       "      <td>45.980000</td>\n",
       "      <td>45.599998</td>\n",
       "      <td>45.849998</td>\n",
       "      <td>274700</td>\n",
       "      <td>0.0</td>\n",
       "      <td>0.0</td>\n",
       "    </tr>\n",
       "    <tr>\n",
       "      <th>20/04/2009</th>\n",
       "      <td>44.790001</td>\n",
       "      <td>44.900002</td>\n",
       "      <td>44.070000</td>\n",
       "      <td>44.419998</td>\n",
       "      <td>265800</td>\n",
       "      <td>0.0</td>\n",
       "      <td>0.0</td>\n",
       "    </tr>\n",
       "    <tr>\n",
       "      <th>22/04/2009</th>\n",
       "      <td>44.610001</td>\n",
       "      <td>45.240002</td>\n",
       "      <td>44.509998</td>\n",
       "      <td>44.990002</td>\n",
       "      <td>234800</td>\n",
       "      <td>0.0</td>\n",
       "      <td>0.0</td>\n",
       "    </tr>\n",
       "    <tr>\n",
       "      <th>23/04/2009</th>\n",
       "      <td>45.189999</td>\n",
       "      <td>45.900002</td>\n",
       "      <td>44.860001</td>\n",
       "      <td>45.900002</td>\n",
       "      <td>305900</td>\n",
       "      <td>0.0</td>\n",
       "      <td>0.0</td>\n",
       "    </tr>\n",
       "    <tr>\n",
       "      <th>24/04/2009</th>\n",
       "      <td>46.169998</td>\n",
       "      <td>46.849998</td>\n",
       "      <td>46.099998</td>\n",
       "      <td>46.689999</td>\n",
       "      <td>325600</td>\n",
       "      <td>0.0</td>\n",
       "      <td>0.0</td>\n",
       "    </tr>\n",
       "    <tr>\n",
       "      <th>...</th>\n",
       "      <td>...</td>\n",
       "      <td>...</td>\n",
       "      <td>...</td>\n",
       "      <td>...</td>\n",
       "      <td>...</td>\n",
       "      <td>...</td>\n",
       "      <td>...</td>\n",
       "    </tr>\n",
       "    <tr>\n",
       "      <th>31/01/2025</th>\n",
       "      <td>123.959999</td>\n",
       "      <td>124.400002</td>\n",
       "      <td>122.930000</td>\n",
       "      <td>123.000000</td>\n",
       "      <td>8503720</td>\n",
       "      <td>0.0</td>\n",
       "      <td>0.0</td>\n",
       "    </tr>\n",
       "    <tr>\n",
       "      <th>03/02/2025</th>\n",
       "      <td>122.889999</td>\n",
       "      <td>123.379997</td>\n",
       "      <td>122.480003</td>\n",
       "      <td>122.639999</td>\n",
       "      <td>3562259</td>\n",
       "      <td>0.0</td>\n",
       "      <td>0.0</td>\n",
       "    </tr>\n",
       "    <tr>\n",
       "      <th>04/02/2025</th>\n",
       "      <td>122.430000</td>\n",
       "      <td>122.760002</td>\n",
       "      <td>121.580002</td>\n",
       "      <td>121.910004</td>\n",
       "      <td>2660619</td>\n",
       "      <td>0.0</td>\n",
       "      <td>0.0</td>\n",
       "    </tr>\n",
       "    <tr>\n",
       "      <th>05/02/2025</th>\n",
       "      <td>122.220001</td>\n",
       "      <td>122.769997</td>\n",
       "      <td>121.540001</td>\n",
       "      <td>122.370003</td>\n",
       "      <td>4473279</td>\n",
       "      <td>0.0</td>\n",
       "      <td>0.0</td>\n",
       "    </tr>\n",
       "    <tr>\n",
       "      <th>06/02/2025</th>\n",
       "      <td>122.250000</td>\n",
       "      <td>123.830002</td>\n",
       "      <td>122.160004</td>\n",
       "      <td>123.160004</td>\n",
       "      <td>7320589</td>\n",
       "      <td>0.0</td>\n",
       "      <td>0.0</td>\n",
       "    </tr>\n",
       "  </tbody>\n",
       "</table>\n",
       "<p>3896 rows × 7 columns</p>\n",
       "</div>"
      ]
     },
     "execution_count": 20,
     "metadata": {},
     "output_type": "execute_result"
    }
   ],
   "execution_count": 20
  },
  {
   "metadata": {
    "ExecuteTime": {
     "end_time": "2025-02-07T00:39:22.567071Z",
     "start_time": "2025-02-07T00:38:20.617628Z"
    }
   },
   "cell_type": "code",
   "source": [
    "dados1 = np.array(all_stocks)\n",
    "dados2 = np.array(info_target['close'])\n",
    "\n",
    "X_train, X_test, y_train, y_test = train_test_split(dados1, dados2, test_size=0.2, random_state=42)\n",
    "# Criar e treinar o modelo\n",
    "# Criando o modelo Random Forest\n",
    "modelo = RandomForestRegressor(n_estimators=65, max_depth=5, random_state=42)\n",
    "\n",
    "# Treinando o modelo\n",
    "modelo.fit(X_train, y_train)\n",
    "\n",
    "# Fazer previsões no conjunto de teste\n",
    "y_pred = modelo.predict(X_test)\n",
    "\n",
    "# Avaliação do modelo\n",
    "mae = mean_absolute_error(y_test, y_pred)\n",
    "mse = mean_squared_error(y_test, y_pred)\n",
    "r2 = r2_score(y_test, y_pred)\n",
    "\n",
    "print(f\"Mean Absolute Error (MAE): {mae:.4f}\")\n",
    "print(f\"Mean Squared Error (MSE): {mse:.4f}\")\n",
    "print(f\"R² Score: {r2:.4f}\")"
   ],
   "id": "93bde70855272ad",
   "outputs": [
    {
     "name": "stdout",
     "output_type": "stream",
     "text": [
      "Mean Absolute Error (MAE): 13.2381\n",
      "Mean Squared Error (MSE): 791.2360\n",
      "R² Score: 1.0000\n",
      "R² Treino: 1.0000\n",
      "R² Teste: 1.0000\n"
     ]
    }
   ],
   "execution_count": 44
  },
  {
   "metadata": {
    "ExecuteTime": {
     "end_time": "2025-02-07T00:35:51.629043Z",
     "start_time": "2025-02-07T00:35:51.089310Z"
    }
   },
   "cell_type": "code",
   "source": [
    "y_train_pred = modelo.predict(X_train)\n",
    "r2_train = r2_score(y_train, y_train_pred)\n",
    "r2_test = r2_score(y_test, y_pred)\n",
    "\n",
    "print(f\"R² Treino: {r2_train:.4f}\")\n",
    "print(f\"R² Teste: {r2_test:.4f}\")\n"
   ],
   "id": "b421117969341035",
   "outputs": [
    {
     "name": "stdout",
     "output_type": "stream",
     "text": [
      "R² Treino: 1.0000\n",
      "R² Teste: 1.0000\n"
     ]
    }
   ],
   "execution_count": 42
  }
 ],
 "metadata": {
  "kernelspec": {
   "display_name": "Python 3",
   "language": "python",
   "name": "python3"
  },
  "language_info": {
   "codemirror_mode": {
    "name": "ipython",
    "version": 3
   },
   "file_extension": ".py",
   "mimetype": "text/x-python",
   "name": "python",
   "nbconvert_exporter": "python",
   "pygments_lexer": "ipython3",
   "version": "3.6.13"
  }
 },
 "nbformat": 4,
 "nbformat_minor": 5
}
